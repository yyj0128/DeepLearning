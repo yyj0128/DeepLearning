{
  "nbformat": 4,
  "nbformat_minor": 0,
  "metadata": {
    "colab": {
      "name": "튤립과 해바라기_분류_신경망.ipynb",
      "provenance": [],
      "collapsed_sections": [],
      "machine_shape": "hm"
    },
    "kernelspec": {
      "name": "python3",
      "display_name": "Python 3"
    },
    "language_info": {
      "name": "python"
    },
    "accelerator": "GPU"
  },
  "cells": [
    {
      "cell_type": "code",
      "metadata": {
        "colab": {
          "base_uri": "https://localhost:8080/"
        },
        "id": "BBMLOwfS1AHv",
        "outputId": "a2d8b54f-a5a2-4b29-ae4c-7051accf6d66"
      },
      "source": [
        "# 구글드라이브 연동\n",
        "from google.colab import drive\n",
        "drive.mount('/content/drive')"
      ],
      "execution_count": null,
      "outputs": [
        {
          "output_type": "stream",
          "name": "stdout",
          "text": [
            "Mounted at /content/drive\n"
          ]
        }
      ]
    },
    {
      "cell_type": "code",
      "metadata": {
        "id": "M0zl5Omu1Y8x"
      },
      "source": [
        "!unzip -qq /content/drive/MyDrive/flower/test.zip  -d /content/drive/MyDrive/flower/test"
      ],
      "execution_count": null,
      "outputs": []
    },
    {
      "cell_type": "code",
      "metadata": {
        "id": "x52FiGF71Y_y"
      },
      "source": [
        "!unzip -qq /content/drive/MyDrive/flower/train.zip -d /content/drive/MyDrive/flower/train/"
      ],
      "execution_count": null,
      "outputs": []
    },
    {
      "cell_type": "code",
      "metadata": {
        "id": "od4705Wg1ZCh"
      },
      "source": [
        "path=\"/content/drive/MyDrive/flower/train_label.csv\"\n",
        "\n",
        "file = open( path, 'w')\n",
        "\n",
        "for  i in  range(1, 801):\n",
        "    file.write( str(1) + '\\n') # 튤립\n",
        "for i  in  range(801, 1360):                       \n",
        "    file.write( str(0) + '\\n') # 해바라기\n",
        "\n",
        "file.close()"
      ],
      "execution_count": null,
      "outputs": []
    },
    {
      "cell_type": "code",
      "metadata": {
        "id": "zVyuLMeI8mTv"
      },
      "source": [
        "path=\"/content/drive/MyDrive/flower/test_label.csv\"\n",
        "\n",
        "file = open( path, 'w')\n",
        "\n",
        "for  i in  range(1, 51):\n",
        "    file.write( str(1) + '\\n') # 튤립\n",
        "for i  in  range(51, 101):                       \n",
        "    file.write( str(0) + '\\n') # 해바라기\n",
        "\n",
        "file.close()"
      ],
      "execution_count": null,
      "outputs": []
    },
    {
      "cell_type": "code",
      "metadata": {
        "id": "yhdBrZwd8mXW"
      },
      "source": [
        "import os\n",
        "import re\n",
        "import cv2\n",
        "import numpy as np\n",
        "\n",
        "def image_load(path):\n",
        "    file_list = os.listdir(path)\n",
        "    file_name=[]\n",
        "\n",
        "    for  i  in  file_list:\n",
        "        a = int( re.sub('[^0-9]','', i) )   # i 가 숫자가 아니면 null 로 변경해라 ~\n",
        "        file_name.append(a)\n",
        "    file_name.sort() # 정렬작업 \n",
        "    \n",
        "    file_res=[]\n",
        "    for  j  in  file_name:\n",
        "        file_res.append('%s/%d.jpg' %(path,j) )\n",
        "        \n",
        "    image=[]\n",
        "    for  k  in  file_res:\n",
        "        img = cv2.imread(k)\n",
        "        image.append(img)\n",
        "    \n",
        "    return  np.array(image)"
      ],
      "execution_count": null,
      "outputs": []
    },
    {
      "cell_type": "code",
      "metadata": {
        "id": "TFu6TTCj9H9t"
      },
      "source": [
        "import csv\n",
        "\n",
        "def  label_load(path):\n",
        "    file = open(path)\n",
        "    labeldata = csv.reader(file)\n",
        "    labellist = []\n",
        "    for  i  in  labeldata:\n",
        "        labellist.append(int(i[0]))\n",
        "\n",
        "    return   np.array(labellist)"
      ],
      "execution_count": null,
      "outputs": []
    },
    {
      "cell_type": "code",
      "metadata": {
        "id": "qPPJxHrSr1lb"
      },
      "source": [
        "import  cv2\n",
        "import  os \n",
        "import  numpy  as np\n",
        "\n",
        "path = \"/content/drive/MyDrive/flower/train/\"\n",
        "file_list = os.listdir(path)   # 파일이름 불러오는 부분 \n",
        "\n",
        "for k in file_list:     # 리스트안에 있는 파일들을 하나씩 빼내는 코드 \n",
        "    img = cv2.imread(path + '/' + k) # 사진을 숫자행렬로 변경합니다. \n",
        "                                                   # (165, 201, 3)\n",
        "    width, height = img.shape[:2]  # 사진 숫자 행렬에서 가로,세로 가져온다.\n",
        "    resize_img = cv2.resize(img, (32 , 32), interpolation=cv2.INTER_CUBIC)\n",
        "    cv2.imwrite('/content/drive/MyDrive/flower/train_resize/' + k, resize_img)   # resize 한 이미지를 저장합니 \n",
        "    "
      ],
      "execution_count": null,
      "outputs": []
    },
    {
      "cell_type": "code",
      "metadata": {
        "id": "zwOkcnFmsBm-"
      },
      "source": [
        "import  cv2\n",
        "import  os \n",
        "import  numpy  as np\n",
        "\n",
        "path = \"/content/drive/MyDrive/flower/test/\"\n",
        "file_list = os.listdir(path)   # 파일이름 불러오는 부분 \n",
        "\n",
        "for k in file_list:     # 리스트안에 있는 파일들을 하나씩 빼내는 코드 \n",
        "    img = cv2.imread(path + '/' + k) # 사진을 숫자행렬로 변경합니다. \n",
        "                                                   # (165, 201, 3)\n",
        "    width, height = img.shape[:2]  # 사진 숫자 행렬에서 가로,세로 가져온다.\n",
        "    resize_img = cv2.resize(img, (32 , 32), interpolation=cv2.INTER_CUBIC)\n",
        "    cv2.imwrite('/content/drive/MyDrive/flower/test_resize/' + k, resize_img)   # resize 한 이미지를 저장합니 \n",
        "    "
      ],
      "execution_count": null,
      "outputs": []
    },
    {
      "cell_type": "code",
      "metadata": {
        "colab": {
          "base_uri": "https://localhost:8080/"
        },
        "id": "17D927L9Lo4S",
        "outputId": "ef0e699c-4f27-4fe2-e443-484a70be0469"
      },
      "source": [
        "# 1. 튤립과 해바라기 데이터를 불러옵니다.\n",
        "\n",
        "# 이미지 데이터와 라벨위치 \n",
        "train_image = '/content/drive/MyDrive/flower/train_resize/'\n",
        "test_image = '/content/drive/MyDrive/flower/test_resize/'\n",
        "train_label = '/content/drive/MyDrive/flower/train_label.csv'\n",
        "test_label = '/content/drive/MyDrive/flower/test_label.csv'\n",
        "\n",
        "# 데이터 로드 \n",
        "x_train = image_load(train_image)\n",
        "y_train = label_load(train_label)\n",
        "x_test = image_load(test_image)\n",
        "y_test = label_load(test_label)     \n",
        "\n",
        "print(x_train.shape)\n",
        "print(x_test.shape)\n",
        "print(y_train.shape)\n",
        "print(y_test.shape)\n"
      ],
      "execution_count": null,
      "outputs": [
        {
          "output_type": "stream",
          "name": "stdout",
          "text": [
            "(1359, 32, 32, 3)\n",
            "(100, 32, 32, 3)\n",
            "(1359,)\n",
            "(100,)\n"
          ]
        }
      ]
    },
    {
      "cell_type": "code",
      "metadata": {
        "colab": {
          "base_uri": "https://localhost:8080/"
        },
        "id": "RDWo6K0EJxd6",
        "outputId": "754aa297-7f38-474a-9fb3-2b7d7d3f9242"
      },
      "source": [
        "# 드롭아웃 적용하기\n",
        "\n",
        "# 1. 필요한 패키지 가져오는 코드 \n",
        "\n",
        "import tensorflow as tf   # 텐써 플로우 2.0 \n",
        "from tensorflow.keras.models import Sequential  # 모델을 구성하기 위한 모듈\n",
        "from tensorflow.keras.layers import Dense, BatchNormalization, Dropout, Conv2D, MaxPooling2D ,Flatten\n",
        "from tensorflow.keras.utils import to_categorical # one encoding 하는 모듈\n",
        "\n",
        "tf.random.set_seed(777)\n",
        "\n",
        "    \n",
        "# 2. 정규화 진행  \n",
        "x_train = x_train.reshape(-1, 32, 32, 3) / 255   # 4차원으로 변경하고 정규화\n",
        "x_test = x_test.reshape(-1, 32,32, 3) / 255\n",
        "\n",
        "\n",
        "# 3. 정답 데이터를 준비한다. \n",
        "# 하나의 숫자를 one hot encoding 한다. (예:  4 ---> 0 0 0 0 1 0 0 0 0 0 ) \n",
        "y_train = to_categorical(y_train)  # 훈련 데이터의 라벨(정답)을 원핫 인코딩\n",
        "y_test = to_categorical(y_test)    # 테스트 데이터의 라벨(정답)을 원핫 인코딩 \n",
        "\n",
        "print(x_train.shape)\n",
        "print(x_test.shape)\n",
        "print(y_train.shape)\n",
        "print(y_test.shape)\n"
      ],
      "execution_count": null,
      "outputs": [
        {
          "output_type": "stream",
          "name": "stdout",
          "text": [
            "(1359, 32, 32, 3)\n",
            "(100, 32, 32, 3)\n",
            "(1359, 2)\n",
            "(100, 2)\n"
          ]
        }
      ]
    },
    {
      "cell_type": "code",
      "metadata": {
        "id": "-DsAzS0Tqr9G",
        "colab": {
          "base_uri": "https://localhost:8080/",
          "height": 1000
        },
        "outputId": "70acfbfe-1b7c-459c-ed19-24f995b507dc"
      },
      "source": [
        "\n",
        "# 4. 모델을 구성합니다. 3층 신경망으로 구성\n",
        "model = Sequential()\n",
        "model.add( Conv2D(100, kernel_size=(5,5),input_shape=(32,32,3), activation='relu', padding='same') )\n",
        "model.add( MaxPooling2D(pool_size=(2, 2), padding='same') )\n",
        "model.add( Conv2D(100, kernel_size=(5,5), activation='relu', padding='same') )\n",
        "model.add( MaxPooling2D(pool_size=(2, 2), padding='same') )\n",
        "\n",
        "\n",
        "model.add( Flatten() )\n",
        "model.add(Dense(100, activation = 'relu', input_shape = (32*32, )))  # 1층\n",
        "model.add(BatchNormalization())\n",
        "model.add(Dropout(0.3))\n",
        "model.add(Dense(100, activation = 'relu') ) # 2층 은닉층 \n",
        "model.add(BatchNormalization())\n",
        "model.add(Dropout(0.3))\n",
        "model.add(Dense(2, activation = 'softmax'))  # 3층 출력층 \n",
        "\n",
        "\n",
        "# 5. 모델을 설정합니다. ( 경사하강법, 오차함수를 정의해줍니다. )\n",
        "model.compile(optimizer='Adam', \n",
        "              loss = 'binary_crossentropy', \n",
        "              metrics=['acc'])  # 학습과정에서 정확도를 보려고 \n",
        "\n",
        "#6. 모델을 훈련시킵니다. \n",
        "from tensorflow.keras.callbacks import EarlyStopping\n",
        "\n",
        "# 콜백을 정의합니다.\n",
        "callbacks = [EarlyStopping(monitor = 'val_acc', patience = 20, verbose = 1)]\n",
        "\n",
        "# callbacks 인자를 통해 정의한 콜백을 전달합니다.\n",
        "history= model.fit(x_train, y_train,\n",
        "         batch_size = 100,\n",
        "         validation_data = (x_test, y_test),\n",
        "         epochs = 200 ,\n",
        "         callbacks = callbacks)\n",
        "\n",
        "# 7.모델을 평가합니다. (오차, 정확도가 출력됩니다.)\n",
        "model.evaluate(x_test, y_test)  #훈련: 1.0, 테스트: 0.97\n",
        "\n",
        "\n",
        "# 8. 시각화\n",
        "train_acc_list=history.history['acc']\n",
        "train_acc_list\n",
        "\n",
        "test_acc_list=history.history['val_acc']\n",
        "test_acc_list\n",
        "\n",
        "\n",
        "import  matplotlib.pyplot  as  plt\n",
        "\n",
        "x = np.arange( len(train_acc_list) )\n",
        "plt.plot( x, train_acc_list, label='train acc')\n",
        "plt.plot( x, test_acc_list, label='test acc',  linestyle='--')\n",
        "plt.ylim(0, 1)\n",
        "plt.legend(loc='lower right')\n",
        "plt.xlabel('epochs')\n",
        "plt.ylabel('accuracy')\n",
        "plt.show()\n",
        "\n",
        "model.save('/content/drive/MyDrive/flower/flower_model2.h5')"
      ],
      "execution_count": null,
      "outputs": [
        {
          "output_type": "stream",
          "name": "stdout",
          "text": [
            "Epoch 1/200\n",
            "14/14 [==============================] - 2s 47ms/step - loss: 0.7110 - acc: 0.6917 - val_loss: 0.5147 - val_acc: 0.7600\n",
            "Epoch 2/200\n",
            "14/14 [==============================] - 0s 31ms/step - loss: 0.5209 - acc: 0.7851 - val_loss: 0.6478 - val_acc: 0.5700\n",
            "Epoch 3/200\n",
            "14/14 [==============================] - 0s 27ms/step - loss: 0.4742 - acc: 0.8219 - val_loss: 0.5239 - val_acc: 0.7100\n",
            "Epoch 4/200\n",
            "14/14 [==============================] - 0s 26ms/step - loss: 0.4425 - acc: 0.8308 - val_loss: 0.3271 - val_acc: 0.9100\n",
            "Epoch 5/200\n",
            "14/14 [==============================] - 0s 25ms/step - loss: 0.4261 - acc: 0.8263 - val_loss: 0.2666 - val_acc: 0.9500\n",
            "Epoch 6/200\n",
            "14/14 [==============================] - 0s 26ms/step - loss: 0.4107 - acc: 0.8447 - val_loss: 0.2514 - val_acc: 0.9400\n",
            "Epoch 7/200\n",
            "14/14 [==============================] - 0s 26ms/step - loss: 0.3815 - acc: 0.8492 - val_loss: 0.2411 - val_acc: 0.9400\n",
            "Epoch 8/200\n",
            "14/14 [==============================] - 0s 26ms/step - loss: 0.3566 - acc: 0.8609 - val_loss: 0.2271 - val_acc: 0.9200\n",
            "Epoch 9/200\n",
            "14/14 [==============================] - 0s 27ms/step - loss: 0.3382 - acc: 0.8690 - val_loss: 0.3013 - val_acc: 0.8700\n",
            "Epoch 10/200\n",
            "14/14 [==============================] - 0s 27ms/step - loss: 0.3342 - acc: 0.8646 - val_loss: 0.2881 - val_acc: 0.8800\n",
            "Epoch 11/200\n",
            "14/14 [==============================] - 0s 27ms/step - loss: 0.2932 - acc: 0.8882 - val_loss: 0.5075 - val_acc: 0.6600\n",
            "Epoch 12/200\n",
            "14/14 [==============================] - 0s 25ms/step - loss: 0.2593 - acc: 0.8992 - val_loss: 1.0223 - val_acc: 0.5000\n",
            "Epoch 13/200\n",
            "14/14 [==============================] - 0s 28ms/step - loss: 0.2468 - acc: 0.9007 - val_loss: 0.9905 - val_acc: 0.5200\n",
            "Epoch 14/200\n",
            "14/14 [==============================] - 0s 25ms/step - loss: 0.2672 - acc: 0.9014 - val_loss: 0.7160 - val_acc: 0.5400\n",
            "Epoch 15/200\n",
            "14/14 [==============================] - 0s 25ms/step - loss: 0.2329 - acc: 0.9095 - val_loss: 0.3688 - val_acc: 0.8100\n",
            "Epoch 16/200\n",
            "14/14 [==============================] - 0s 26ms/step - loss: 0.1901 - acc: 0.9367 - val_loss: 0.4444 - val_acc: 0.6800\n",
            "Epoch 17/200\n",
            "14/14 [==============================] - 0s 27ms/step - loss: 0.1807 - acc: 0.9367 - val_loss: 0.9765 - val_acc: 0.5400\n",
            "Epoch 18/200\n",
            "14/14 [==============================] - 0s 27ms/step - loss: 0.1598 - acc: 0.9500 - val_loss: 1.1152 - val_acc: 0.5000\n",
            "Epoch 19/200\n",
            "14/14 [==============================] - 0s 26ms/step - loss: 0.1101 - acc: 0.9698 - val_loss: 1.2449 - val_acc: 0.5100\n",
            "Epoch 20/200\n",
            "14/14 [==============================] - 0s 25ms/step - loss: 0.1169 - acc: 0.9617 - val_loss: 0.3373 - val_acc: 0.8600\n",
            "Epoch 21/200\n",
            "14/14 [==============================] - 0s 27ms/step - loss: 0.1041 - acc: 0.9662 - val_loss: 0.8863 - val_acc: 0.5800\n",
            "Epoch 22/200\n",
            "14/14 [==============================] - 0s 25ms/step - loss: 0.1066 - acc: 0.9684 - val_loss: 0.8127 - val_acc: 0.6000\n",
            "Epoch 23/200\n",
            "14/14 [==============================] - 0s 26ms/step - loss: 0.0781 - acc: 0.9728 - val_loss: 0.7316 - val_acc: 0.6400\n",
            "Epoch 24/200\n",
            "14/14 [==============================] - 0s 29ms/step - loss: 0.0907 - acc: 0.9728 - val_loss: 1.9001 - val_acc: 0.5000\n",
            "Epoch 25/200\n",
            "14/14 [==============================] - 0s 26ms/step - loss: 0.0625 - acc: 0.9779 - val_loss: 0.0987 - val_acc: 0.9800\n",
            "Epoch 26/200\n",
            "14/14 [==============================] - 0s 27ms/step - loss: 0.0982 - acc: 0.9669 - val_loss: 0.1671 - val_acc: 0.9200\n",
            "Epoch 27/200\n",
            "14/14 [==============================] - 0s 26ms/step - loss: 0.0815 - acc: 0.9735 - val_loss: 0.1233 - val_acc: 0.9700\n",
            "Epoch 28/200\n",
            "14/14 [==============================] - 0s 26ms/step - loss: 0.0510 - acc: 0.9853 - val_loss: 0.0997 - val_acc: 0.9500\n",
            "Epoch 29/200\n",
            "14/14 [==============================] - 0s 27ms/step - loss: 0.0407 - acc: 0.9912 - val_loss: 0.2866 - val_acc: 0.8700\n",
            "Epoch 30/200\n",
            "14/14 [==============================] - 0s 26ms/step - loss: 0.0340 - acc: 0.9875 - val_loss: 0.6268 - val_acc: 0.8000\n",
            "Epoch 31/200\n",
            "14/14 [==============================] - 0s 26ms/step - loss: 0.0354 - acc: 0.9926 - val_loss: 0.1683 - val_acc: 0.9400\n",
            "Epoch 32/200\n",
            "14/14 [==============================] - 0s 28ms/step - loss: 0.0377 - acc: 0.9897 - val_loss: 0.1219 - val_acc: 0.9600\n",
            "Epoch 33/200\n",
            "14/14 [==============================] - 0s 27ms/step - loss: 0.0281 - acc: 0.9904 - val_loss: 0.1928 - val_acc: 0.9200\n",
            "Epoch 34/200\n",
            "14/14 [==============================] - 0s 26ms/step - loss: 0.0202 - acc: 0.9941 - val_loss: 0.1606 - val_acc: 0.9700\n",
            "Epoch 35/200\n",
            "14/14 [==============================] - 0s 25ms/step - loss: 0.0153 - acc: 0.9985 - val_loss: 0.1943 - val_acc: 0.9400\n",
            "Epoch 36/200\n",
            "14/14 [==============================] - 0s 27ms/step - loss: 0.0104 - acc: 0.9985 - val_loss: 0.1800 - val_acc: 0.9600\n",
            "Epoch 37/200\n",
            "14/14 [==============================] - 0s 26ms/step - loss: 0.0121 - acc: 0.9971 - val_loss: 0.5386 - val_acc: 0.8300\n",
            "Epoch 38/200\n",
            "14/14 [==============================] - 0s 26ms/step - loss: 0.0088 - acc: 0.9985 - val_loss: 0.1526 - val_acc: 0.9700\n",
            "Epoch 39/200\n",
            "14/14 [==============================] - 0s 28ms/step - loss: 0.0094 - acc: 0.9978 - val_loss: 0.1609 - val_acc: 0.9600\n",
            "Epoch 40/200\n",
            "14/14 [==============================] - 0s 27ms/step - loss: 0.0079 - acc: 0.9985 - val_loss: 0.3849 - val_acc: 0.9500\n",
            "Epoch 41/200\n",
            "14/14 [==============================] - 0s 28ms/step - loss: 0.0074 - acc: 0.9985 - val_loss: 0.1999 - val_acc: 0.9500\n",
            "Epoch 42/200\n",
            "14/14 [==============================] - 0s 27ms/step - loss: 0.0044 - acc: 0.9993 - val_loss: 0.1669 - val_acc: 0.9700\n",
            "Epoch 43/200\n",
            "14/14 [==============================] - 0s 25ms/step - loss: 0.0038 - acc: 1.0000 - val_loss: 0.1651 - val_acc: 0.9600\n",
            "Epoch 44/200\n",
            "14/14 [==============================] - 0s 26ms/step - loss: 0.0021 - acc: 1.0000 - val_loss: 0.1853 - val_acc: 0.9500\n",
            "Epoch 45/200\n",
            "14/14 [==============================] - 0s 26ms/step - loss: 0.0025 - acc: 1.0000 - val_loss: 0.1713 - val_acc: 0.9700\n",
            "Epoch 00045: early stopping\n",
            "4/4 [==============================] - 0s 7ms/step - loss: 0.1713 - acc: 0.9700\n"
          ]
        },
        {
          "output_type": "display_data",
          "data": {
            "image/png": "[encoded data removed]",
            "text/plain": [
              "<Figure size 432x288 with 1 Axes>"
            ]
          },
          "metadata": {
            "needs_background": "light"
          }
        }
      ]
    },
    {
      "cell_type": "code",
      "metadata": {
        "colab": {
          "base_uri": "https://localhost:8080/"
        },
        "id": "86vbKuMTPxzz",
        "outputId": "3f10b45c-079f-48a3-b5c3-461a182aadec"
      },
      "source": [
        "# 모델을 불러와서 새로운 모델로 구성하고 이파리 이미지 한장 예측하기\n",
        "\n",
        "# 1. 모델을 불러옵니다.\n",
        "from tensorflow.keras.models import load_model\n",
        "\n",
        "new_model = load_model('/content/drive/MyDrive/flower/flower_model2.h5')\n",
        "\n",
        "# 2.모델을 평가합니다. (오차, 정확도가 출력됩니다.)\n",
        "\n",
        "new_model.evaluate(x_test, y_test)"
      ],
      "execution_count": null,
      "outputs": [
        {
          "output_type": "stream",
          "name": "stdout",
          "text": [
            "4/4 [==============================] - 0s 7ms/step - loss: 0.1713 - acc: 0.9700\n"
          ]
        },
        {
          "output_type": "execute_result",
          "data": {
            "text/plain": [
              "[0.17132534086704254, 0.9700000286102295]"
            ]
          },
          "metadata": {},
          "execution_count": 19
        }
      ]
    },
    {
      "cell_type": "code",
      "metadata": {
        "colab": {
          "base_uri": "https://localhost:8080/"
        },
        "id": "bxNnLTYaRzk-",
        "outputId": "23a9dcbf-dfb8-4759-faf0-8b7c2b324099"
      },
      "source": [
        "import tensorflow as  tf\n",
        "import cv2\n",
        "\n",
        "img_path = '/content/drive/MyDrive/flower/img/87.jpg'\n",
        "\n",
        "img = cv2.imread(img_path)\n",
        "#img = cv2.bitwise_not(img)\n",
        "print(img.shape)\n",
        "\n",
        "import tensorflow.compat.v1 as tf\n",
        "tf.disable_v2_behavior()\n",
        "\n",
        "resized_images=tf.image.resize_images(img, (32, 32))\n",
        "print(resized_images.shape)"
      ],
      "execution_count": null,
      "outputs": [
        {
          "output_type": "stream",
          "name": "stdout",
          "text": [
            "(225, 187, 3)\n",
            "(32, 32, 3)\n"
          ]
        }
      ]
    },
    {
      "cell_type": "code",
      "metadata": {
        "colab": {
          "base_uri": "https://localhost:8080/"
        },
        "id": "R_7TfD7nRzoO",
        "outputId": "594f7fee-5f60-4721-8cca-401fa4556d82"
      },
      "source": [
        "import numpy as np\n",
        "\n",
        "x2 =tf.reshape(resized_images, [-1,32,32,3])\n",
        "print(x2.shape)\n",
        "\n",
        "from tensorflow.keras.models import load_model\n",
        "\n",
        "new_model = load_model('/content/drive/MyDrive/flower/flower_model2.h5')\n",
        "\n",
        "results = new_model.predict(x2,steps=1)\n",
        "np.argmax(results)  # 1 이 튤립, 0 이 해바라기"
      ],
      "execution_count": null,
      "outputs": [
        {
          "output_type": "stream",
          "name": "stdout",
          "text": [
            "(1, 32, 32, 3)\n"
          ]
        },
        {
          "output_type": "stream",
          "name": "stderr",
          "text": [
            "/usr/local/lib/python3.7/dist-packages/keras/engine/training.py:2470: UserWarning: `Model.state_updates` will be removed in a future version. This property should not be used in TensorFlow 2.0, as `updates` are applied automatically.\n",
            "  warnings.warn('`Model.state_updates` will be removed in a future version. '\n"
          ]
        },
        {
          "output_type": "execute_result",
          "data": {
            "text/plain": [
              "0"
            ]
          },
          "metadata": {},
          "execution_count": 28
        }
      ]
    },
    {
      "cell_type": "code",
      "metadata": {
        "colab": {
          "base_uri": "https://localhost:8080/"
        },
        "id": "347zsTrJUymu",
        "outputId": "821ecee9-0f32-409c-d9f3-4fc85ca7fcc4"
      },
      "source": [
        "import tensorflow as  tf\n",
        "import cv2\n",
        "\n",
        "img_path = '/content/drive/MyDrive/fruit/img/test.jpg'\n",
        "\n",
        "img = cv2.imread(img_path)\n",
        "img = cv2.bitwise_not(img)\n",
        "print(img.shape)\n",
        "\n",
        "import tensorflow.compat.v1 as tf\n",
        "tf.disable_v2_behavior()\n",
        "\n",
        "resized_images2=tf.image.resize_images(img, (32, 32))\n",
        "print(resized_images2.shape)"
      ],
      "execution_count": null,
      "outputs": [
        {
          "output_type": "stream",
          "name": "stdout",
          "text": [
            "(225, 260, 3)\n",
            "(32, 32, 3)\n"
          ]
        }
      ]
    },
    {
      "cell_type": "code",
      "metadata": {
        "id": "2vPw6zD9Rzq0"
      },
      "source": [
        "import numpy as np\n",
        "\n",
        "x2 =tf.reshape(resized_images, [-1,32,32,3])\n",
        "print(x2.shape)\n",
        "\n",
        "from tensorflow.keras.models import load_model\n",
        "\n",
        "new_model = load_model('fruit_model2.h5')\n",
        "\n",
        "results = new_model.predict(x2,steps=1)\n",
        "np.argmax(results) # 1 이 파이애플, 0 이 사과"
      ],
      "execution_count": null,
      "outputs": []
    },
    {
      "cell_type": "code",
      "metadata": {
        "colab": {
          "base_uri": "https://localhost:8080/"
        },
        "id": "P9FeIRhn65p3",
        "outputId": "28c6d243-a390-49b6-f870-6cbe3628184b"
      },
      "source": [
        "###################### VGG 신경망 ############################\n",
        "from tensorflow.keras.applications import VGG16\n",
        "vgg16 = VGG16(weights = 'imagenet', input_shape = (32, 32, 3), include_top = False)"
      ],
      "execution_count": null,
      "outputs": [
        {
          "output_type": "stream",
          "name": "stdout",
          "text": [
            "Downloading data from https://storage.googleapis.com/tensorflow/keras-applications/vgg16/vgg16_weights_tf_dim_ordering_tf_kernels_notop.h5\n",
            "58892288/58889256 [==============================] - 1s 0us/step\n",
            "58900480/58889256 [==============================] - 1s 0us/step\n"
          ]
        }
      ]
    },
    {
      "cell_type": "code",
      "metadata": {
        "colab": {
          "base_uri": "https://localhost:8080/",
          "height": 1000
        },
        "id": "HdYAwugY6rHu",
        "outputId": "8d182f2a-f018-4ee0-aa21-1c3c3c2dfe28"
      },
      "source": [
        "# 드롭아웃 적용하기\n",
        "\n",
        "# 1. 필요한 패키지 가져오는 코드 \n",
        "import tensorflow as tf   # 텐써 플로우 2.0 \n",
        "from tensorflow.keras.models import Sequential  # 모델을 구성하기 위한 모듈\n",
        "from tensorflow.keras.layers import Dense, BatchNormalization, Dropout, Conv2D, MaxPooling2D ,Flatten\n",
        "from tensorflow.keras.utils import to_categorical # one encoding 하는 모듈\n",
        "from tensorflow.keras.optimizers import Adam\n",
        "\n",
        "tf.random.set_seed(777)\n",
        "    \n",
        "# 2. 정규화 진행  \n",
        "x_train = x_train.reshape(-1, 32, 32, 3) / 255   # 4차원으로 변경하고 정규화\n",
        "x_test = x_test.reshape(-1, 32,32, 3) / 255\n",
        "\n",
        "\n",
        "# 3. 정답 데이터를 준비한다. \n",
        "# 하나의 숫자를 one hot encoding 한다. (예:  4 ---> 0 0 0 0 1 0 0 0 0 0 ) \n",
        "y_train = to_categorical(y_train)  # 훈련 데이터의 라벨(정답)을 원핫 인코딩\n",
        "y_test = to_categorical(y_test)    # 테스트 데이터의 라벨(정답)을 원핫 인코딩 \n",
        "\n",
        "print(x_train.shape)\n",
        "print(x_test.shape)\n",
        "print(y_train.shape)\n",
        "print(y_test.shape)\n",
        "    \n",
        "\n",
        "# 4. 모델을 구성합니다. 3층 신경망으로 구성\n",
        "model = Sequential()\n",
        "model.add(vgg16)\n",
        "\n",
        "model.add( Flatten() )\n",
        "model.add(Dense(100, activation = 'relu', input_shape = (32*32, )))  # 1층\n",
        "model.add(BatchNormalization())\n",
        "model.add(Dropout(0.3))\n",
        "model.add(Dense(100, activation = 'relu') ) # 2층 은닉층 \n",
        "model.add(BatchNormalization())\n",
        "model.add(Dropout(0.3))\n",
        "model.add(Dense(2, activation = 'softmax'))  # 3층 출력층 \n",
        "\n",
        "# 5. 모델을 설정합니다. ( 경사하강법, 오차함수를 정의해줍니다. )\n",
        "model.compile(optimizer=Adam(1e-4), \n",
        "              loss = 'binary_crossentropy', \n",
        "              metrics=['acc'])  # 학습과정에서 정확도를 보려고 \n",
        "\n",
        "#6. 모델을 훈련시킵니다. \n",
        "from tensorflow.keras.callbacks import EarlyStopping\n",
        "\n",
        "# 콜백을 정의합니다.\n",
        "callbacks = [EarlyStopping(monitor = 'val_acc', patience = 20, verbose = 1)]\n",
        "\n",
        "# callbacks 인자를 통해 정의한 콜백을 전달합니다.\n",
        "history= model.fit(x_train, y_train,\n",
        "         batch_size = 100,\n",
        "         validation_data = (x_test, y_test),\n",
        "         epochs = 200 ,\n",
        "         callbacks = callbacks)\n",
        "\n",
        "# 7.모델을 평가합니다. (오차, 정확도가 출력됩니다.)\n",
        "model.evaluate(x_test, y_test)  #훈련: 1.0, 테스트: 1.0\n",
        "\n",
        "# 8. 시각화\n",
        "train_acc_list=history.history['acc']\n",
        "train_acc_list\n",
        "\n",
        "test_acc_list=history.history['val_acc']\n",
        "test_acc_list\n",
        "\n",
        "\n",
        "import  matplotlib.pyplot  as  plt\n",
        "\n",
        "x = np.arange( len(train_acc_list) )\n",
        "plt.plot( x, train_acc_list, label='train acc')\n",
        "plt.plot( x, test_acc_list, label='test acc',  linestyle='--')\n",
        "plt.ylim(0, 1)\n",
        "plt.legend(loc='lower right')\n",
        "plt.xlabel('epochs')\n",
        "plt.ylabel('accuracy')\n",
        "plt.show()\n",
        "\n",
        "model.save('/content/drive/MyDrive/flower/flower_vgg16.h5')\n"
      ],
      "execution_count": null,
      "outputs": [
        {
          "output_type": "stream",
          "name": "stdout",
          "text": [
            "(1359, 32, 32, 3)\n",
            "(100, 32, 32, 3)\n",
            "(1359, 2)\n",
            "(100, 2)\n",
            "Epoch 1/200\n",
            "14/14 [==============================] - 38s 222ms/step - loss: 0.5766 - acc: 0.7660 - val_loss: 0.4480 - val_acc: 0.8700\n",
            "Epoch 2/200\n",
            "14/14 [==============================] - 1s 106ms/step - loss: 0.3040 - acc: 0.8926 - val_loss: 0.2780 - val_acc: 0.9500\n",
            "Epoch 3/200\n",
            "14/14 [==============================] - 1s 106ms/step - loss: 0.2708 - acc: 0.9102 - val_loss: 0.1602 - val_acc: 1.0000\n",
            "Epoch 4/200\n",
            "14/14 [==============================] - 2s 108ms/step - loss: 0.2112 - acc: 0.9308 - val_loss: 0.1644 - val_acc: 0.9400\n",
            "Epoch 5/200\n",
            "14/14 [==============================] - 1s 105ms/step - loss: 0.1736 - acc: 0.9433 - val_loss: 0.0813 - val_acc: 1.0000\n",
            "Epoch 6/200\n",
            "14/14 [==============================] - 2s 108ms/step - loss: 0.1574 - acc: 0.9573 - val_loss: 0.1094 - val_acc: 1.0000\n",
            "Epoch 7/200\n",
            "14/14 [==============================] - 1s 105ms/step - loss: 0.1417 - acc: 0.9581 - val_loss: 0.1104 - val_acc: 1.0000\n",
            "Epoch 8/200\n",
            "14/14 [==============================] - 1s 105ms/step - loss: 0.1218 - acc: 0.9662 - val_loss: 0.0712 - val_acc: 1.0000\n",
            "Epoch 9/200\n",
            "14/14 [==============================] - 1s 106ms/step - loss: 0.0893 - acc: 0.9809 - val_loss: 0.0898 - val_acc: 0.9900\n",
            "Epoch 10/200\n",
            "14/14 [==============================] - 1s 105ms/step - loss: 0.0589 - acc: 0.9934 - val_loss: 0.0736 - val_acc: 0.9900\n",
            "Epoch 11/200\n",
            "14/14 [==============================] - 1s 105ms/step - loss: 0.0516 - acc: 0.9897 - val_loss: 0.0909 - val_acc: 0.9800\n",
            "Epoch 12/200\n",
            "14/14 [==============================] - 1s 105ms/step - loss: 0.0599 - acc: 0.9875 - val_loss: 0.1214 - val_acc: 0.9900\n",
            "Epoch 13/200\n",
            "14/14 [==============================] - 1s 105ms/step - loss: 0.0504 - acc: 0.9971 - val_loss: 0.0789 - val_acc: 0.9800\n",
            "Epoch 14/200\n",
            "14/14 [==============================] - 1s 106ms/step - loss: 0.0435 - acc: 0.9934 - val_loss: 0.1377 - val_acc: 0.9300\n",
            "Epoch 15/200\n",
            "14/14 [==============================] - 1s 107ms/step - loss: 0.0396 - acc: 0.9956 - val_loss: 0.0454 - val_acc: 0.9900\n",
            "Epoch 16/200\n",
            "14/14 [==============================] - 1s 105ms/step - loss: 0.0222 - acc: 0.9985 - val_loss: 0.0942 - val_acc: 0.9900\n",
            "Epoch 17/200\n",
            "14/14 [==============================] - 1s 106ms/step - loss: 0.0149 - acc: 1.0000 - val_loss: 0.0854 - val_acc: 0.9900\n",
            "Epoch 18/200\n",
            "14/14 [==============================] - 1s 105ms/step - loss: 0.0121 - acc: 1.0000 - val_loss: 0.0577 - val_acc: 0.9900\n",
            "Epoch 19/200\n",
            "14/14 [==============================] - 1s 106ms/step - loss: 0.0109 - acc: 1.0000 - val_loss: 0.0511 - val_acc: 0.9900\n",
            "Epoch 20/200\n",
            "14/14 [==============================] - 1s 107ms/step - loss: 0.0116 - acc: 1.0000 - val_loss: 0.0760 - val_acc: 0.9900\n",
            "Epoch 21/200\n",
            "14/14 [==============================] - 1s 106ms/step - loss: 0.0125 - acc: 1.0000 - val_loss: 0.0680 - val_acc: 0.9900\n",
            "Epoch 22/200\n",
            "14/14 [==============================] - 1s 105ms/step - loss: 0.0106 - acc: 1.0000 - val_loss: 0.0547 - val_acc: 0.9900\n",
            "Epoch 23/200\n",
            "14/14 [==============================] - 1s 107ms/step - loss: 0.0120 - acc: 1.0000 - val_loss: 0.0130 - val_acc: 1.0000\n",
            "Epoch 00023: early stopping\n",
            "4/4 [==============================] - 1s 112ms/step - loss: 0.0130 - acc: 1.0000\n"
          ]
        },
        {
          "output_type": "display_data",
          "data": {
            "image/png": "[encoded data removed]",
            "text/plain": [
              "<Figure size 432x288 with 1 Axes>"
            ]
          },
          "metadata": {
            "needs_background": "light"
          }
        }
      ]
    }
  ]
}